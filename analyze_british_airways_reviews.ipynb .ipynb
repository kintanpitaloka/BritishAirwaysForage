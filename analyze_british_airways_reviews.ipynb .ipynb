{
 "cells": [
  {
   "cell_type": "markdown",
   "id": "1f992483-0e38-4873-a233-428219d7273e",
   "metadata": {},
   "source": [
    "## | Analyze British Airways Review "
   ]
  },
  {
   "cell_type": "code",
   "execution_count": 24,
   "id": "56402b1b-71d2-40fb-bb49-1e393089d05d",
   "metadata": {},
   "outputs": [],
   "source": [
    "import pandas as pd\n",
    "import numpy as np\n",
    "import seaborn as sns\n",
    "import matplotlib.pyplot as plt\n",
    "%matplotlib inline\n",
    "\n",
    "import warnings\n",
    "warnings.simplefilter(\"ignore\")"
   ]
  },
  {
   "cell_type": "code",
   "execution_count": 25,
   "id": "b4ed60e7-eb16-4fda-9a05-d8e7be3a3ac2",
   "metadata": {},
   "outputs": [],
   "source": [
    "data_review = pd.read_csv(\"data/britishairways_review_cleaned.csv\")"
   ]
  },
  {
   "cell_type": "code",
   "execution_count": 26,
   "id": "3ca6cc97-209f-4f8f-90c7-d63888b4be7f",
   "metadata": {},
   "outputs": [
    {
     "data": {
      "text/html": [
       "<div>\n",
       "<style scoped>\n",
       "    .dataframe tbody tr th:only-of-type {\n",
       "        vertical-align: middle;\n",
       "    }\n",
       "\n",
       "    .dataframe tbody tr th {\n",
       "        vertical-align: top;\n",
       "    }\n",
       "\n",
       "    .dataframe thead th {\n",
       "        text-align: right;\n",
       "    }\n",
       "</style>\n",
       "<table border=\"1\" class=\"dataframe\">\n",
       "  <thead>\n",
       "    <tr style=\"text-align: right;\">\n",
       "      <th></th>\n",
       "      <th>reviews</th>\n",
       "      <th>sentiment</th>\n",
       "      <th>sentiment_category</th>\n",
       "    </tr>\n",
       "  </thead>\n",
       "  <tbody>\n",
       "    <tr>\n",
       "      <th>0</th>\n",
       "      <td>|   London Heathrow to Male In new business ...</td>\n",
       "      <td>0.300758</td>\n",
       "      <td>Positive</td>\n",
       "    </tr>\n",
       "    <tr>\n",
       "      <th>1</th>\n",
       "      <td>|  Very good flight following an equally good...</td>\n",
       "      <td>0.344286</td>\n",
       "      <td>Positive</td>\n",
       "    </tr>\n",
       "    <tr>\n",
       "      <th>2</th>\n",
       "      <td>|  An hour's delay due to late arrival of the...</td>\n",
       "      <td>0.122222</td>\n",
       "      <td>Positive</td>\n",
       "    </tr>\n",
       "    <tr>\n",
       "      <th>3</th>\n",
       "      <td>|   I booked through BA because Loganair don...</td>\n",
       "      <td>0.078906</td>\n",
       "      <td>Neutral</td>\n",
       "    </tr>\n",
       "    <tr>\n",
       "      <th>4</th>\n",
       "      <td>|   British airways lost bags in LHR then fo...</td>\n",
       "      <td>-0.066667</td>\n",
       "      <td>Neutral</td>\n",
       "    </tr>\n",
       "  </tbody>\n",
       "</table>\n",
       "</div>"
      ],
      "text/plain": [
       "                                             reviews  sentiment  \\\n",
       "0    |   London Heathrow to Male In new business ...   0.300758   \n",
       "1   |  Very good flight following an equally good...   0.344286   \n",
       "2   |  An hour's delay due to late arrival of the...   0.122222   \n",
       "3    |   I booked through BA because Loganair don...   0.078906   \n",
       "4    |   British airways lost bags in LHR then fo...  -0.066667   \n",
       "\n",
       "  sentiment_category  \n",
       "0           Positive  \n",
       "1           Positive  \n",
       "2           Positive  \n",
       "3            Neutral  \n",
       "4            Neutral  "
      ]
     },
     "execution_count": 26,
     "metadata": {},
     "output_type": "execute_result"
    }
   ],
   "source": [
    "data_review.head()"
   ]
  },
  {
   "cell_type": "code",
   "execution_count": 27,
   "id": "801ab4b9-f29b-475c-b8c5-576f73a09519",
   "metadata": {},
   "outputs": [
    {
     "data": {
      "text/plain": [
       "(1000, 3)"
      ]
     },
     "execution_count": 27,
     "metadata": {},
     "output_type": "execute_result"
    }
   ],
   "source": [
    "data_review.shape"
   ]
  },
  {
   "cell_type": "code",
   "execution_count": 28,
   "id": "b00864e1-915f-46d7-8e83-d79aeb4253e3",
   "metadata": {},
   "outputs": [
    {
     "name": "stdout",
     "output_type": "stream",
     "text": [
      "<class 'pandas.core.frame.DataFrame'>\n",
      "RangeIndex: 1000 entries, 0 to 999\n",
      "Data columns (total 3 columns):\n",
      " #   Column              Non-Null Count  Dtype  \n",
      "---  ------              --------------  -----  \n",
      " 0   reviews             1000 non-null   object \n",
      " 1   sentiment           1000 non-null   float64\n",
      " 2   sentiment_category  1000 non-null   object \n",
      "dtypes: float64(1), object(2)\n",
      "memory usage: 23.6+ KB\n"
     ]
    }
   ],
   "source": [
    "data_review.info()"
   ]
  },
  {
   "cell_type": "code",
   "execution_count": 29,
   "id": "cf434b33-b6a8-4f5e-9c4f-1ed2c56553e4",
   "metadata": {},
   "outputs": [
    {
     "data": {
      "text/plain": [
       "reviews               False\n",
       "sentiment             False\n",
       "sentiment_category    False\n",
       "dtype: bool"
      ]
     },
     "execution_count": 29,
     "metadata": {},
     "output_type": "execute_result"
    }
   ],
   "source": [
    "data_review.isna().any()"
   ]
  },
  {
   "cell_type": "code",
   "execution_count": 30,
   "id": "bd7acf64-a660-43d3-837e-f5ef3428c7ad",
   "metadata": {
    "scrolled": true
   },
   "outputs": [
    {
     "data": {
      "text/html": [
       "<div>\n",
       "<style scoped>\n",
       "    .dataframe tbody tr th:only-of-type {\n",
       "        vertical-align: middle;\n",
       "    }\n",
       "\n",
       "    .dataframe tbody tr th {\n",
       "        vertical-align: top;\n",
       "    }\n",
       "\n",
       "    .dataframe thead th {\n",
       "        text-align: right;\n",
       "    }\n",
       "</style>\n",
       "<table border=\"1\" class=\"dataframe\">\n",
       "  <thead>\n",
       "    <tr style=\"text-align: right;\">\n",
       "      <th></th>\n",
       "      <th>reviews</th>\n",
       "      <th>sentiment_category</th>\n",
       "    </tr>\n",
       "  </thead>\n",
       "  <tbody>\n",
       "    <tr>\n",
       "      <th>count</th>\n",
       "      <td>1000</td>\n",
       "      <td>1000</td>\n",
       "    </tr>\n",
       "    <tr>\n",
       "      <th>unique</th>\n",
       "      <td>1000</td>\n",
       "      <td>3</td>\n",
       "    </tr>\n",
       "    <tr>\n",
       "      <th>top</th>\n",
       "      <td>|   London Heathrow to Male In new business ...</td>\n",
       "      <td>Neutral</td>\n",
       "    </tr>\n",
       "    <tr>\n",
       "      <th>freq</th>\n",
       "      <td>1</td>\n",
       "      <td>485</td>\n",
       "    </tr>\n",
       "  </tbody>\n",
       "</table>\n",
       "</div>"
      ],
      "text/plain": [
       "                                                  reviews sentiment_category\n",
       "count                                                1000               1000\n",
       "unique                                               1000                  3\n",
       "top       |   London Heathrow to Male In new business ...            Neutral\n",
       "freq                                                    1                485"
      ]
     },
     "execution_count": 30,
     "metadata": {},
     "output_type": "execute_result"
    }
   ],
   "source": [
    "data_review.describe(include=\"object\")"
   ]
  },
  {
   "cell_type": "code",
   "execution_count": 31,
   "id": "0420b0cb-5ed3-4d4c-bf9b-dea92624d984",
   "metadata": {},
   "outputs": [
    {
     "data": {
      "text/plain": [
       "355"
      ]
     },
     "execution_count": 31,
     "metadata": {},
     "output_type": "execute_result"
    }
   ],
   "source": [
    "# Count the number of reviews with 'Positive' sentiment category\n",
    "data_review['sentiment_category'].value_counts()['Positive']"
   ]
  },
  {
   "cell_type": "code",
   "execution_count": 32,
   "id": "0a7239e8-918b-4450-b89e-2eb81751d651",
   "metadata": {},
   "outputs": [
    {
     "data": {
      "text/plain": [
       "485"
      ]
     },
     "execution_count": 32,
     "metadata": {},
     "output_type": "execute_result"
    }
   ],
   "source": [
    "# Count the number of reviews with 'Positive' sentiment category\n",
    "data_review['sentiment_category'].value_counts()['Neutral']"
   ]
  },
  {
   "cell_type": "code",
   "execution_count": 33,
   "id": "a888fb0e-e674-4019-bb73-63223d5959c4",
   "metadata": {},
   "outputs": [
    {
     "data": {
      "text/plain": [
       "160"
      ]
     },
     "execution_count": 33,
     "metadata": {},
     "output_type": "execute_result"
    }
   ],
   "source": [
    "# Count the number of reviews with 'Positive' sentiment category\n",
    "data_review['sentiment_category'].value_counts()['Negative']"
   ]
  },
  {
   "cell_type": "code",
   "execution_count": 35,
   "id": "6e59d6b9-c8c9-44b5-87e1-b22cca9ef8b9",
   "metadata": {},
   "outputs": [
    {
     "data": {
      "text/plain": [
       "<seaborn.axisgrid.FacetGrid at 0x1f313cad400>"
      ]
     },
     "execution_count": 35,
     "metadata": {},
     "output_type": "execute_result"
    },
    {
     "data": {
      "text/plain": [
       "<Figure size 1000x500 with 0 Axes>"
      ]
     },
     "metadata": {},
     "output_type": "display_data"
    },
    {
     "data": {
      "image/png": "[encoded data removed]",
      "text/plain": [
       "<Figure size 550x250 with 1 Axes>"
      ]
     },
     "metadata": {},
     "output_type": "display_data"
    }
   ],
   "source": [
    "fig = plt.figure(figsize=(10, 5))\n",
    "sns.catplot(y='sentiment_category', kind='count', data=data_review, height=2.5, aspect=2.2, palette = 'deep') "
   ]
  },
  {
   "cell_type": "markdown",
   "id": "110a6ac4-b0e3-4c89-9eb7-0ecdaf31a820",
   "metadata": {},
   "source": [
    "As we can see from the insights we learned from the dataset:\n",
    "- There are 1000 reviews, with the top review being 'London Heathrow to Male In new business..'\n",
    "- There are 3 sentiment categories: positive, neutral, and negative.\n",
    "- Positive have frequent 385, Neutral 485, and Negative 160.\n",
    "- The most frequent sentiment is neutral, with 485 occurrences."
   ]
  },
  {
   "cell_type": "code",
   "execution_count": null,
   "id": "e9701cb5-2aae-48c3-846b-e55af3c56d9d",
   "metadata": {},
   "outputs": [],
   "source": []
  },
  {
   "cell_type": "code",
   "execution_count": null,
   "id": "1cd5006a-5e81-47de-bc6a-018a0b482470",
   "metadata": {},
   "outputs": [],
   "source": []
  }
 ],
 "metadata": {
  "kernelspec": {
   "display_name": "Python 3 (ipykernel)",
   "language": "python",
   "name": "python3"
  },
  "language_info": {
   "codemirror_mode": {
    "name": "ipython",
    "version": 3
   },
   "file_extension": ".py",
   "mimetype": "text/x-python",
   "name": "python",
   "nbconvert_exporter": "python",
   "pygments_lexer": "ipython3",
   "version": "3.12.6"
  }
 },
 "nbformat": 4,
 "nbformat_minor": 5
}
