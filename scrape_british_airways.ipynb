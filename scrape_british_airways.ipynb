{
 "cells": [
  {
   "cell_type": "markdown",
   "id": "14f38710",
   "metadata": {},
   "source": [
    "# British Airways Predicting Customer Behaviours"
   ]
  },
  {
   "cell_type": "markdown",
   "id": "7be045cf",
   "metadata": {},
   "source": [
    "### Web scraping and analysis"
   ]
  },
  {
   "cell_type": "markdown",
   "id": "6bc7407c",
   "metadata": {},
   "source": [
    "This Jupyter notebook includes some code to get you started with web scraping. We will use a package called BeautifulSoup to collect the data from the web. Once you've collected your data and saved it into a local .csv file you should start with your analysis.\n",
    "\n",
    "Scraping data from Skytrax\n",
    "If you visit [https://www.airlinequality.com] you can see that there is a lot of data there. For this task, we are only interested in reviews related to British Airways and the Airline itself.\n",
    "\n",
    "If you navigate to this link: [https://www.airlinequality.com/airline-reviews/british-airways] you will see this data. Now, we can use Python and BeautifulSoup to collect all the links to the reviews and then to collect the text data on each of the individual review links."
   ]
  },
  {
   "cell_type": "code",
   "execution_count": 35,
   "id": "cf98c9bc",
   "metadata": {},
   "outputs": [],
   "source": [
    "import requests\n",
    "from bs4 import BeautifulSoup\n",
    "import pandas as pd\n",
    "import matplotlib.pyplot as plt\n",
    "import seaborn as sns\n",
    "import re\n",
    "from textblob import TextBlob\n",
    "import nltk\n",
    "from nltk.corpus import stopwords\n",
    "from nltk.tokenize import word_tokenize"
   ]
  },
  {
   "cell_type": "code",
   "execution_count": 36,
   "id": "92d8ad1c-1b86-410a-85ba-9acb4895e3d5",
   "metadata": {},
   "outputs": [
    {
     "name": "stderr",
     "output_type": "stream",
     "text": [
      "[nltk_data] Downloading package punkt to\n",
      "[nltk_data]     C:\\Users\\user\\AppData\\Roaming\\nltk_data...\n",
      "[nltk_data]   Package punkt is already up-to-date!\n",
      "[nltk_data] Downloading package stopwords to\n",
      "[nltk_data]     C:\\Users\\user\\AppData\\Roaming\\nltk_data...\n",
      "[nltk_data]   Package stopwords is already up-to-date!\n",
      "[nltk_data] Downloading package brown to\n",
      "[nltk_data]     C:\\Users\\user\\AppData\\Roaming\\nltk_data...\n",
      "[nltk_data]   Package brown is already up-to-date!\n"
     ]
    },
    {
     "data": {
      "text/plain": [
       "True"
      ]
     },
     "execution_count": 36,
     "metadata": {},
     "output_type": "execute_result"
    }
   ],
   "source": [
    "# Download necessary NLTK data\n",
    "nltk.download('punkt')\n",
    "nltk.download('stopwords')\n",
    "nltk.download('brown')"
   ]
  },
  {
   "cell_type": "code",
   "execution_count": 37,
   "id": "fe91e3fc",
   "metadata": {
    "scrolled": true
   },
   "outputs": [
    {
     "name": "stdout",
     "output_type": "stream",
     "text": [
      "Scraping page 1\n",
      "   ---> 100 total reviews\n",
      "Scraping page 2\n",
      "   ---> 200 total reviews\n",
      "Scraping page 3\n",
      "   ---> 300 total reviews\n",
      "Scraping page 4\n",
      "   ---> 400 total reviews\n",
      "Scraping page 5\n",
      "   ---> 500 total reviews\n",
      "Scraping page 6\n",
      "   ---> 600 total reviews\n",
      "Scraping page 7\n",
      "   ---> 700 total reviews\n",
      "Scraping page 8\n",
      "   ---> 800 total reviews\n",
      "Scraping page 9\n",
      "   ---> 900 total reviews\n",
      "Scraping page 10\n",
      "   ---> 1000 total reviews\n"
     ]
    }
   ],
   "source": [
    "# Web scraping\n",
    "base_url = \"https://www.airlinequality.com/airline-reviews/british-airways\"\n",
    "pages = 10\n",
    "page_size = 100\n",
    "reviews = []\n",
    "\n",
    "for i in range(1, pages + 1):\n",
    "    print(f\"Scraping page {i}\")\n",
    "    url = f\"{base_url}/page/{i}/?sortby=post_date%3ADesc&pagesize={page_size}\"\n",
    "    response = requests.get(url)\n",
    "    parsed_content = BeautifulSoup(response.content, 'html.parser')\n",
    "    \n",
    "    for para in parsed_content.find_all(\"div\", {\"class\": \"text_content\"}):\n",
    "        reviews.append(para.get_text().strip())\n",
    "    \n",
    "    print(f\"   ---> {len(reviews)} total reviews\")"
   ]
  },
  {
   "cell_type": "code",
   "execution_count": 38,
   "id": "13d89674",
   "metadata": {},
   "outputs": [],
   "source": [
    "# Save data to DataFrame\n",
    "df = pd.DataFrame({'reviews': reviews})\n",
    "df.to_csv(\"data/britishairways_review.csv\", index=False)"
   ]
  },
  {
   "cell_type": "code",
   "execution_count": 39,
   "id": "18b57395",
   "metadata": {},
   "outputs": [],
   "source": [
    "# Load data for processing\n",
    "data = pd.read_csv(\"data/britishairways_review.csv\")"
   ]
  },
  {
   "cell_type": "markdown",
   "id": "f3b29360",
   "metadata": {},
   "source": [
    "### Data Cleaning"
   ]
  },
  {
   "cell_type": "code",
   "execution_count": 40,
   "id": "024b73f0",
   "metadata": {},
   "outputs": [],
   "source": [
    "# Data cleaning\n",
    "data['reviews'] = data['reviews'].str.replace(r'Not Verified|Trip Verified', '', regex=True)\n",
    "data['reviews'] = data['reviews'].apply(lambda x: re.sub(r'[^\\x00-\\x7F]+', '', x))  # Remove emojis"
   ]
  },
  {
   "cell_type": "code",
   "execution_count": 41,
   "id": "9c5d2b97",
   "metadata": {},
   "outputs": [],
   "source": [
    "# Sentiment analysis\n",
    "data['sentiment'] = data['reviews'].apply(lambda x: TextBlob(str(x)).sentiment.polarity)"
   ]
  },
  {
   "cell_type": "code",
   "execution_count": 42,
   "id": "232c79d0",
   "metadata": {},
   "outputs": [],
   "source": [
    "# Categorizing sentiments\n",
    "data['sentiment_category'] = data['sentiment'].apply(lambda x: 'Positive' if x > 0.1 else ('Negative' if x < -0.1 else 'Neutral'))"
   ]
  },
  {
   "cell_type": "code",
   "execution_count": 43,
   "id": "809817a7-9e38-4809-9007-e41c772ad138",
   "metadata": {},
   "outputs": [],
   "source": [
    "# Count sentiment categories\n",
    "sentiment_counts = data['sentiment_category'].value_counts()"
   ]
  },
  {
   "cell_type": "code",
   "execution_count": 45,
   "id": "1c866d6e-1feb-4337-82a8-20d7c4df3c56",
   "metadata": {},
   "outputs": [
    {
     "name": "stderr",
     "output_type": "stream",
     "text": [
      "C:\\Users\\user\\AppData\\Local\\Temp\\ipykernel_37856\\2702480341.py:3: FutureWarning: \n",
      "\n",
      "Passing `palette` without assigning `hue` is deprecated and will be removed in v0.14.0. Assign the `x` variable to `hue` and set `legend=False` for the same effect.\n",
      "\n",
      "  sns.barplot(x=sentiment_counts.index, y=sentiment_counts.values, palette=['green', 'gray', 'red'])\n"
     ]
    },
    {
     "data": {
      "image/png": "[encoded data removed]",
      "text/plain": [
       "<Figure size 800x500 with 1 Axes>"
      ]
     },
     "metadata": {},
     "output_type": "display_data"
    }
   ],
   "source": [
    "# Assuming sentiment_counts is a pandas Series with sentiment categories and their counts\n",
    "plt.figure(figsize=(8, 5))\n",
    "sns.barplot(x=sentiment_counts.index, y=sentiment_counts.values, palette=['green', 'gray', 'red'])\n",
    "\n",
    "# Adding labels and title\n",
    "plt.xlabel('Sentiment Category')\n",
    "plt.ylabel('Number of Reviews')\n",
    "plt.title('Sentiment Analysis of British Airways Reviews')\n",
    "\n",
    "# Show plot\n",
    "plt.show()"
   ]
  },
  {
   "cell_type": "code",
   "execution_count": 34,
   "id": "f1ed4bfa",
   "metadata": {},
   "outputs": [],
   "source": [
    "#copy data \n",
    "data1 = data_ba.copy()"
   ]
  },
  {
   "cell_type": "raw",
   "id": "6e1f65fd-200d-43d9-a983-3d3b147af856",
   "metadata": {},
   "source": [
    "right now, the data was scrapting and clean.c"
   ]
  },
  {
   "cell_type": "code",
   "execution_count": null,
   "id": "f9ed0395",
   "metadata": {},
   "outputs": [],
   "source": [
    "## Analyze "
   ]
  }
 ],
 "metadata": {
  "kernelspec": {
   "display_name": "Python 3 (ipykernel)",
   "language": "python",
   "name": "python3"
  },
  "language_info": {
   "codemirror_mode": {
    "name": "ipython",
    "version": 3
   },
   "file_extension": ".py",
   "mimetype": "text/x-python",
   "name": "python",
   "nbconvert_exporter": "python",
   "pygments_lexer": "ipython3",
   "version": "3.12.6"
  }
 },
 "nbformat": 4,
 "nbformat_minor": 5
}
